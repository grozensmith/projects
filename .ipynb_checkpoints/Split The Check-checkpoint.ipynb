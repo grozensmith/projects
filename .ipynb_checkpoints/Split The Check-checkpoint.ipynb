{
 "metadata": {
  "name": ""
 },
 "nbformat": 3,
 "nbformat_minor": 0,
 "worksheets": [
  {
   "cells": [
    {
     "cell_type": "code",
     "collapsed": false,
     "input": [
      "\"\"\"\n",
      "Person Objects - \n",
      "    property - what food they bought \n",
      "    property - how much they owe\n",
      "    method - recalculate how much they owe\n",
      "Food objects - \n",
      "    property - how much they cost \n",
      "    property - which people bought them\n",
      "\n",
      "\n",
      "\n",
      "Flow -\n",
      "    open app\n",
      "    input people eating\n",
      "    take picture of receipt\n",
      "    match people->food? food->people?   REACH\n",
      "    calc subtotal\n",
      "    look @ tax & distribute by proportion of total subtotal\n",
      "    ask for tip\n",
      "    multiply all owed amounts by tip\n",
      "    return all people amounts by \n",
      "    \n",
      "\n",
      "\n",
      "Future additions:\n",
      "    define subgroups to make selection easier (this half of the table ordered nachos)\n",
      "    show breakdown of what you owe\n",
      "    checklist to make sure they paid\n",
      "    saved payments, make sure people pay\n",
      "    \n",
      "    \n",
      "    \n",
      "\n",
      "Question:\n",
      "    nachos x3 28.50\n",
      "\n",
      "\"\"\""
     ],
     "language": "python",
     "metadata": {},
     "outputs": [],
     "prompt_number": 20
    },
    {
     "cell_type": "code",
     "collapsed": false,
     "input": [],
     "language": "python",
     "metadata": {},
     "outputs": [],
     "prompt_number": 81
    },
    {
     "cell_type": "code",
     "collapsed": false,
     "input": [],
     "language": "python",
     "metadata": {},
     "outputs": [],
     "prompt_number": 81
    },
    {
     "cell_type": "code",
     "collapsed": false,
     "input": [],
     "language": "python",
     "metadata": {},
     "outputs": [],
     "prompt_number": 81
    },
    {
     "cell_type": "code",
     "collapsed": false,
     "input": [],
     "language": "python",
     "metadata": {},
     "outputs": [],
     "prompt_number": 81
    },
    {
     "cell_type": "code",
     "collapsed": false,
     "input": [],
     "language": "python",
     "metadata": {},
     "outputs": []
    }
   ],
   "metadata": {}
  }
 ]
}