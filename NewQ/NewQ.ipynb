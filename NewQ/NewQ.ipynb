{
 "metadata": {
  "name": ""
 },
 "nbformat": 3,
 "nbformat_minor": 0,
 "worksheets": [
  {
   "cells": [
    {
     "cell_type": "code",
     "collapsed": false,
     "input": [
      "from pattern import web\n",
      "import requests\n",
      "\n",
      "def get_titles_from_page(url):\n",
      "    html = requests.get(url).text\n",
      "    dom = web.Element(html)\n",
      "    courses = dom.by_class(\"course_title\")\n",
      "    courses = map(lambda x: str(x.by_tag(\"a\")[0].content), courses)\n",
      "    \n",
      "    try:\n",
      "        next_button = dom.by_class(\"prevnext\")[-1]\n",
      "        if \"next\" in next_button.by_tag(\"a\")[-1].content:\n",
      "            next_button_link = str(next_button.by_tag(\"a\")[-1].attributes['href'])\n",
      "        else: \n",
      "            next_button_link = None\n",
      "\n",
      "    except:\n",
      "        next_button_link = None\n",
      "    return courses, next_button_link\n",
      "\n",
      "def get_all_titles(url, titles = [], i=0):\n",
      "    i+=1\n",
      "    courses, next_button_link = get_titles_from_page(url)\n",
      "    titles += courses\n",
      "    if next_button_link != None and i<20:\n",
      "        return get_all_titles(next_button_link, titles, i)\n",
      "    else:\n",
      "        return titles\n"
     ],
     "language": "python",
     "metadata": {},
     "outputs": [],
     "prompt_number": 1
    },
    {
     "cell_type": "code",
     "collapsed": false,
     "input": [
      "big_url = \"https://coursecatalog.harvard.edu/icb/icb.do?keyword=CourseCatalog&panel=icb.pagecontent695860%3Arsearch%3Ffq_coordinated_semester_yr%3D%26fq_school_nm%3D%26q%3D%26sort%3Dcourse_title%2Basc%26start%3D0%26submit%3DSearch&pageid=icb.page335057&pageContentId=icb.pagecontent695860&#a_icb_pagecontent695860\"\n",
      "url = \"https://coursecatalog.harvard.edu/icb/icb.do?keyword=CourseCatalog&panel=icb.pagecontent695860%3Arsearch%3Ffq_coordinated_semester_yr%3D%26fq_school_nm%3D%26q%3Dgame%2Btheory%26sort%3Dcourse_title%2Basc%26start%3D0%26submit%3DSearch&pageid=icb.page335057&pageContentId=icb.pagecontent695860&#a_icb_pagecontent695860\"\n",
      "big_titles = get_all_titles(big_url)\n"
     ],
     "language": "python",
     "metadata": {},
     "outputs": [],
     "prompt_number": 2
    },
    {
     "cell_type": "code",
     "collapsed": false,
     "input": [],
     "language": "python",
     "metadata": {},
     "outputs": [],
     "prompt_number": 2
    },
    {
     "cell_type": "code",
     "collapsed": false,
     "input": [
      "with open(\"course_titles.txt\", 'w+') as writefile:\n",
      "    for t in big_titles:\n",
      "        print>>writefile, t"
     ],
     "language": "python",
     "metadata": {},
     "outputs": []
    }
   ],
   "metadata": {}
  }
 ]
}